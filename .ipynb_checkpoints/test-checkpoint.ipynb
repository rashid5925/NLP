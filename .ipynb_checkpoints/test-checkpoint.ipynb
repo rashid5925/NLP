{
 "cells": [
  {
   "cell_type": "code",
   "execution_count": 2,
   "id": "1ac962e9",
   "metadata": {},
   "outputs": [],
   "source": [
    "import pandas as pd"
   ]
  },
  {
   "cell_type": "code",
   "execution_count": 2,
   "id": "b362132a",
   "metadata": {},
   "outputs": [],
   "source": [
    "data = pd.read_csv('Polyguilt_raw_4k_to_fiverr_ali_v1.csv')"
   ]
  },
  {
   "cell_type": "code",
   "execution_count": 3,
   "id": "5e6f464f",
   "metadata": {},
   "outputs": [
    {
     "data": {
      "text/html": [
       "<div>\n",
       "<style scoped>\n",
       "    .dataframe tbody tr th:only-of-type {\n",
       "        vertical-align: middle;\n",
       "    }\n",
       "\n",
       "    .dataframe tbody tr th {\n",
       "        vertical-align: top;\n",
       "    }\n",
       "\n",
       "    .dataframe thead th {\n",
       "        text-align: right;\n",
       "    }\n",
       "</style>\n",
       "<table border=\"1\" class=\"dataframe\">\n",
       "  <thead>\n",
       "    <tr style=\"text-align: right;\">\n",
       "      <th></th>\n",
       "      <th>id</th>\n",
       "      <th>title</th>\n",
       "      <th>content</th>\n",
       "      <th>label</th>\n",
       "    </tr>\n",
       "  </thead>\n",
       "  <tbody>\n",
       "    <tr>\n",
       "      <th>0</th>\n",
       "      <td>4575</td>\n",
       "      <td>My friend died a few weeks ago, I needed to ge...</td>\n",
       "      <td>A few weeks ago my friend recently died of can...</td>\n",
       "      <td>No Guilt</td>\n",
       "    </tr>\n",
       "    <tr>\n",
       "      <th>1</th>\n",
       "      <td>11319</td>\n",
       "      <td>Gf doesn’t satisfy me</td>\n",
       "      <td>My gf doesn’t satisfy me sexually enough .. \\n...</td>\n",
       "      <td>No Guilt</td>\n",
       "    </tr>\n",
       "    <tr>\n",
       "      <th>2</th>\n",
       "      <td>3274</td>\n",
       "      <td>way to jealous</td>\n",
       "      <td>i’m gonna call myself G and my boyfriend K for...</td>\n",
       "      <td>Existential</td>\n",
       "    </tr>\n",
       "    <tr>\n",
       "      <th>3</th>\n",
       "      <td>4875</td>\n",
       "      <td>I am out of options and considering final opti...</td>\n",
       "      <td>I lost my job because of a mental breakdown in...</td>\n",
       "      <td>No Guilt</td>\n",
       "    </tr>\n",
       "    <tr>\n",
       "      <th>4</th>\n",
       "      <td>1024</td>\n",
       "      <td>I go out of my way to be extra nice to the mos...</td>\n",
       "      <td>Whenever I notice someone working in customer ...</td>\n",
       "      <td>Existential</td>\n",
       "    </tr>\n",
       "  </tbody>\n",
       "</table>\n",
       "</div>"
      ],
      "text/plain": [
       "      id                                              title  \\\n",
       "0   4575  My friend died a few weeks ago, I needed to ge...   \n",
       "1  11319                              Gf doesn’t satisfy me   \n",
       "2   3274                                     way to jealous   \n",
       "3   4875  I am out of options and considering final opti...   \n",
       "4   1024  I go out of my way to be extra nice to the mos...   \n",
       "\n",
       "                                             content        label  \n",
       "0  A few weeks ago my friend recently died of can...     No Guilt  \n",
       "1  My gf doesn’t satisfy me sexually enough .. \\n...     No Guilt  \n",
       "2  i’m gonna call myself G and my boyfriend K for...  Existential  \n",
       "3  I lost my job because of a mental breakdown in...     No Guilt  \n",
       "4  Whenever I notice someone working in customer ...  Existential  "
      ]
     },
     "execution_count": 3,
     "metadata": {},
     "output_type": "execute_result"
    }
   ],
   "source": [
    "data.head()"
   ]
  },
  {
   "cell_type": "code",
   "execution_count": 4,
   "id": "66d599dc",
   "metadata": {},
   "outputs": [
    {
     "data": {
      "text/plain": [
       "id         4000\n",
       "title      4000\n",
       "content    4000\n",
       "label      4000\n",
       "dtype: int64"
      ]
     },
     "execution_count": 4,
     "metadata": {},
     "output_type": "execute_result"
    }
   ],
   "source": [
    "data.count()"
   ]
  },
  {
   "cell_type": "code",
   "execution_count": 5,
   "id": "bb57e7e6",
   "metadata": {},
   "outputs": [
    {
     "data": {
      "text/html": [
       "<div>\n",
       "<style scoped>\n",
       "    .dataframe tbody tr th:only-of-type {\n",
       "        vertical-align: middle;\n",
       "    }\n",
       "\n",
       "    .dataframe tbody tr th {\n",
       "        vertical-align: top;\n",
       "    }\n",
       "\n",
       "    .dataframe thead th {\n",
       "        text-align: right;\n",
       "    }\n",
       "</style>\n",
       "<table border=\"1\" class=\"dataframe\">\n",
       "  <thead>\n",
       "    <tr style=\"text-align: right;\">\n",
       "      <th></th>\n",
       "      <th>id</th>\n",
       "      <th>title</th>\n",
       "      <th>content</th>\n",
       "      <th>label</th>\n",
       "    </tr>\n",
       "  </thead>\n",
       "  <tbody>\n",
       "    <tr>\n",
       "      <th>1153</th>\n",
       "      <td>4203</td>\n",
       "      <td>I messed up</td>\n",
       "      <td>I have never been l(o)ved and never will be ca...</td>\n",
       "      <td>Anticipatory</td>\n",
       "    </tr>\n",
       "    <tr>\n",
       "      <th>3555</th>\n",
       "      <td>7655</td>\n",
       "      <td>I messed up</td>\n",
       "      <td>I left my phone with a drink friend and now I ...</td>\n",
       "      <td>Reactive</td>\n",
       "    </tr>\n",
       "    <tr>\n",
       "      <th>43</th>\n",
       "      <td>2822</td>\n",
       "      <td>Lost</td>\n",
       "      <td>this morning i lost something very valuable to...</td>\n",
       "      <td>Reactive</td>\n",
       "    </tr>\n",
       "    <tr>\n",
       "      <th>1513</th>\n",
       "      <td>6935</td>\n",
       "      <td>Lost</td>\n",
       "      <td>I’m sitting in the bathroom while he lays in b...</td>\n",
       "      <td>Existential</td>\n",
       "    </tr>\n",
       "    <tr>\n",
       "      <th>3268</th>\n",
       "      <td>4559</td>\n",
       "      <td>Lost</td>\n",
       "      <td>They say it's the last great journey \\nI cant ...</td>\n",
       "      <td>No Guilt</td>\n",
       "    </tr>\n",
       "    <tr>\n",
       "      <th>449</th>\n",
       "      <td>92</td>\n",
       "      <td>Select [Tough Love], [Support Only], or none f...</td>\n",
       "      <td>Select ONLY ONE: \\n\\n[Traditional]: If you fee...</td>\n",
       "      <td>Reactive</td>\n",
       "    </tr>\n",
       "    <tr>\n",
       "      <th>1415</th>\n",
       "      <td>101</td>\n",
       "      <td>Select [Tough Love], [Support Only], or none f...</td>\n",
       "      <td>I've been really disappointed with sex with my...</td>\n",
       "      <td>Existential</td>\n",
       "    </tr>\n",
       "    <tr>\n",
       "      <th>2078</th>\n",
       "      <td>212</td>\n",
       "      <td>Select [Tough Love], [Support Only], or none f...</td>\n",
       "      <td>[remorse]\\nSo if you read my last confession y...</td>\n",
       "      <td>No Guilt</td>\n",
       "    </tr>\n",
       "  </tbody>\n",
       "</table>\n",
       "</div>"
      ],
      "text/plain": [
       "        id                                              title  \\\n",
       "1153  4203                                        I messed up   \n",
       "3555  7655                                        I messed up   \n",
       "43    2822                                               Lost   \n",
       "1513  6935                                               Lost   \n",
       "3268  4559                                               Lost   \n",
       "449     92  Select [Tough Love], [Support Only], or none f...   \n",
       "1415   101  Select [Tough Love], [Support Only], or none f...   \n",
       "2078   212  Select [Tough Love], [Support Only], or none f...   \n",
       "\n",
       "                                                content         label  \n",
       "1153  I have never been l(o)ved and never will be ca...  Anticipatory  \n",
       "3555  I left my phone with a drink friend and now I ...      Reactive  \n",
       "43    this morning i lost something very valuable to...      Reactive  \n",
       "1513  I’m sitting in the bathroom while he lays in b...   Existential  \n",
       "3268  They say it's the last great journey \\nI cant ...      No Guilt  \n",
       "449   Select ONLY ONE: \\n\\n[Traditional]: If you fee...      Reactive  \n",
       "1415  I've been really disappointed with sex with my...   Existential  \n",
       "2078  [remorse]\\nSo if you read my last confession y...      No Guilt  "
      ]
     },
     "execution_count": 5,
     "metadata": {},
     "output_type": "execute_result"
    }
   ],
   "source": [
    "# Group by 'title' and collect unique 'label' values for each title\n",
    "title_label_groups = data.groupby('title')['label'].unique()\n",
    "# Find titles with different labels\n",
    "differing_titles = title_label_groups[title_label_groups.apply(len) > 1]\n",
    "\n",
    "# Filter original DataFrame based on differing titles\n",
    "result = data[data['title'].isin(differing_titles.index)]\n",
    "df = pd.DataFrame(result)\n",
    "df = df.sort_values(by='title')\n",
    "df\n",
    "# df.to_csv('output.csv', index=False)"
   ]
  },
  {
   "cell_type": "code",
   "execution_count": 6,
   "id": "f44230da",
   "metadata": {},
   "outputs": [
    {
     "data": {
      "text/html": [
       "<div>\n",
       "<style scoped>\n",
       "    .dataframe tbody tr th:only-of-type {\n",
       "        vertical-align: middle;\n",
       "    }\n",
       "\n",
       "    .dataframe tbody tr th {\n",
       "        vertical-align: top;\n",
       "    }\n",
       "\n",
       "    .dataframe thead th {\n",
       "        text-align: right;\n",
       "    }\n",
       "</style>\n",
       "<table border=\"1\" class=\"dataframe\">\n",
       "  <thead>\n",
       "    <tr style=\"text-align: right;\">\n",
       "      <th></th>\n",
       "      <th>id</th>\n",
       "      <th>title</th>\n",
       "      <th>content</th>\n",
       "      <th>label</th>\n",
       "    </tr>\n",
       "  </thead>\n",
       "  <tbody>\n",
       "  </tbody>\n",
       "</table>\n",
       "</div>"
      ],
      "text/plain": [
       "Empty DataFrame\n",
       "Columns: [id, title, content, label]\n",
       "Index: []"
      ]
     },
     "execution_count": 6,
     "metadata": {},
     "output_type": "execute_result"
    }
   ],
   "source": [
    "# Group by 'title' and collect unique 'label' values for each title\n",
    "title_label_groups2 = data.groupby('content')['label'].unique()\n",
    "# Find titles with different labels\n",
    "differing_titles2 = title_label_groups2[title_label_groups2.apply(len) > 1]\n",
    "\n",
    "# Filter original DataFrame based on differing titles\n",
    "result2 = data[data['content'].isin(differing_titles2.index)]\n",
    "df2 = pd.DataFrame(result2)\n",
    "df2 = df2.sort_values(by='title')\n",
    "df2"
   ]
  },
  {
   "cell_type": "code",
   "execution_count": 7,
   "id": "d2f67333",
   "metadata": {},
   "outputs": [],
   "source": [
    "# df2.to_csv('output3.csv', index=False)"
   ]
  },
  {
   "cell_type": "code",
   "execution_count": 8,
   "id": "1fa8f979",
   "metadata": {},
   "outputs": [
    {
     "name": "stdout",
     "output_type": "stream",
     "text": [
      "Number of rows with unique 'title' values: 0\n"
     ]
    }
   ],
   "source": [
    "column_name = 'title'\n",
    "unique_rows_count = df2[column_name].nunique()\n",
    "\n",
    "print(f\"Number of rows with unique '{column_name}' values: {unique_rows_count}\")"
   ]
  },
  {
   "cell_type": "code",
   "execution_count": 9,
   "id": "2229ed9f",
   "metadata": {},
   "outputs": [],
   "source": [
    "data = pd.read_csv('Polyguilt_raw_4k_to_fiverr_marked.csv')"
   ]
  },
  {
   "cell_type": "code",
   "execution_count": 10,
   "id": "d7fe5f70",
   "metadata": {},
   "outputs": [
    {
     "data": {
      "text/html": [
       "<div>\n",
       "<style scoped>\n",
       "    .dataframe tbody tr th:only-of-type {\n",
       "        vertical-align: middle;\n",
       "    }\n",
       "\n",
       "    .dataframe tbody tr th {\n",
       "        vertical-align: top;\n",
       "    }\n",
       "\n",
       "    .dataframe thead th {\n",
       "        text-align: right;\n",
       "    }\n",
       "</style>\n",
       "<table border=\"1\" class=\"dataframe\">\n",
       "  <thead>\n",
       "    <tr style=\"text-align: right;\">\n",
       "      <th></th>\n",
       "      <th>id</th>\n",
       "      <th>title</th>\n",
       "      <th>content</th>\n",
       "      <th>label</th>\n",
       "    </tr>\n",
       "  </thead>\n",
       "  <tbody>\n",
       "    <tr>\n",
       "      <th>0</th>\n",
       "      <td>4575</td>\n",
       "      <td>My friend died a few weeks ago, I needed to ge...</td>\n",
       "      <td>A few weeks ago my friend recently died of can...</td>\n",
       "      <td>No Guilt</td>\n",
       "    </tr>\n",
       "    <tr>\n",
       "      <th>1</th>\n",
       "      <td>11319</td>\n",
       "      <td>Gf doesn’t satisfy me</td>\n",
       "      <td>My gf doesn’t satisfy me sexually enough .. \\n...</td>\n",
       "      <td>No Guilt</td>\n",
       "    </tr>\n",
       "    <tr>\n",
       "      <th>2</th>\n",
       "      <td>3274</td>\n",
       "      <td>way to jealous</td>\n",
       "      <td>i’m gonna call myself G and my boyfriend K for...</td>\n",
       "      <td>Existential</td>\n",
       "    </tr>\n",
       "    <tr>\n",
       "      <th>3</th>\n",
       "      <td>4875</td>\n",
       "      <td>I am out of options and considering final opti...</td>\n",
       "      <td>I lost my job because of a mental breakdown in...</td>\n",
       "      <td>No Guilt</td>\n",
       "    </tr>\n",
       "    <tr>\n",
       "      <th>4</th>\n",
       "      <td>1024</td>\n",
       "      <td>I go out of my way to be extra nice to the mos...</td>\n",
       "      <td>Whenever I notice someone working in customer ...</td>\n",
       "      <td>Existential</td>\n",
       "    </tr>\n",
       "  </tbody>\n",
       "</table>\n",
       "</div>"
      ],
      "text/plain": [
       "      id                                              title  \\\n",
       "0   4575  My friend died a few weeks ago, I needed to ge...   \n",
       "1  11319                              Gf doesn’t satisfy me   \n",
       "2   3274                                     way to jealous   \n",
       "3   4875  I am out of options and considering final opti...   \n",
       "4   1024  I go out of my way to be extra nice to the mos...   \n",
       "\n",
       "                                             content        label  \n",
       "0  A few weeks ago my friend recently died of can...     No Guilt  \n",
       "1  My gf doesn’t satisfy me sexually enough .. \\n...     No Guilt  \n",
       "2  i’m gonna call myself G and my boyfriend K for...  Existential  \n",
       "3  I lost my job because of a mental breakdown in...     No Guilt  \n",
       "4  Whenever I notice someone working in customer ...  Existential  "
      ]
     },
     "execution_count": 10,
     "metadata": {},
     "output_type": "execute_result"
    }
   ],
   "source": [
    "data.head()"
   ]
  },
  {
   "cell_type": "code",
   "execution_count": 11,
   "id": "7834d8ba",
   "metadata": {},
   "outputs": [
    {
     "data": {
      "text/plain": [
       "id         4000\n",
       "title      4000\n",
       "content    4000\n",
       "label      4000\n",
       "dtype: int64"
      ]
     },
     "execution_count": 11,
     "metadata": {},
     "output_type": "execute_result"
    }
   ],
   "source": [
    "data.count()"
   ]
  },
  {
   "cell_type": "code",
   "execution_count": 12,
   "id": "1f60ed49",
   "metadata": {},
   "outputs": [
    {
     "data": {
      "text/html": [
       "<div>\n",
       "<style scoped>\n",
       "    .dataframe tbody tr th:only-of-type {\n",
       "        vertical-align: middle;\n",
       "    }\n",
       "\n",
       "    .dataframe tbody tr th {\n",
       "        vertical-align: top;\n",
       "    }\n",
       "\n",
       "    .dataframe thead th {\n",
       "        text-align: right;\n",
       "    }\n",
       "</style>\n",
       "<table border=\"1\" class=\"dataframe\">\n",
       "  <thead>\n",
       "    <tr style=\"text-align: right;\">\n",
       "      <th></th>\n",
       "      <th>id</th>\n",
       "      <th>title</th>\n",
       "      <th>content</th>\n",
       "      <th>label</th>\n",
       "    </tr>\n",
       "  </thead>\n",
       "  <tbody>\n",
       "  </tbody>\n",
       "</table>\n",
       "</div>"
      ],
      "text/plain": [
       "Empty DataFrame\n",
       "Columns: [id, title, content, label]\n",
       "Index: []"
      ]
     },
     "execution_count": 12,
     "metadata": {},
     "output_type": "execute_result"
    }
   ],
   "source": [
    "# Group by 'title' and collect unique 'label' values for each title\n",
    "title_label_groups2 = data.groupby('content')['label'].unique()\n",
    "# Find titles with different labels\n",
    "differing_titles2 = title_label_groups2[title_label_groups2.apply(len) > 1]\n",
    "\n",
    "# Filter original DataFrame based on differing titles\n",
    "result2 = data[data['content'].isin(differing_titles2.index)]\n",
    "df2 = pd.DataFrame(result2)\n",
    "df2 = df2.sort_values(by='title')\n",
    "df2"
   ]
  },
  {
   "cell_type": "code",
   "execution_count": 13,
   "id": "9b216178",
   "metadata": {},
   "outputs": [
    {
     "name": "stdout",
     "output_type": "stream",
     "text": [
      "Number of rows with unique 'title' values: 0\n"
     ]
    }
   ],
   "source": [
    "column_name = 'title'\n",
    "unique_rows_count = df2[column_name].nunique()\n",
    "\n",
    "print(f\"Number of rows with unique '{column_name}' values: {unique_rows_count}\")"
   ]
  },
  {
   "cell_type": "code",
   "execution_count": 8,
   "id": "582db999",
   "metadata": {},
   "outputs": [],
   "source": [
    "data = pd.read_csv('Recheck-1000.csv')"
   ]
  },
  {
   "cell_type": "code",
   "execution_count": 9,
   "id": "0a913e35",
   "metadata": {},
   "outputs": [
    {
     "data": {
      "text/html": [
       "<div>\n",
       "<style scoped>\n",
       "    .dataframe tbody tr th:only-of-type {\n",
       "        vertical-align: middle;\n",
       "    }\n",
       "\n",
       "    .dataframe tbody tr th {\n",
       "        vertical-align: top;\n",
       "    }\n",
       "\n",
       "    .dataframe thead th {\n",
       "        text-align: right;\n",
       "    }\n",
       "</style>\n",
       "<table border=\"1\" class=\"dataframe\">\n",
       "  <thead>\n",
       "    <tr style=\"text-align: right;\">\n",
       "      <th></th>\n",
       "      <th>id</th>\n",
       "      <th>title</th>\n",
       "      <th>content</th>\n",
       "      <th>label</th>\n",
       "    </tr>\n",
       "  </thead>\n",
       "  <tbody>\n",
       "    <tr>\n",
       "      <th>0</th>\n",
       "      <td>8292</td>\n",
       "      <td>I shared my wife’s pics with strangers.</td>\n",
       "      <td>I have been sharing my wife’s pics that were o...</td>\n",
       "      <td>No Guilt</td>\n",
       "    </tr>\n",
       "    <tr>\n",
       "      <th>1</th>\n",
       "      <td>3742</td>\n",
       "      <td>Her bra smelled so good</td>\n",
       "      <td>Recently my hot aunt spent the weekend at my p...</td>\n",
       "      <td>No Guilt</td>\n",
       "    </tr>\n",
       "    <tr>\n",
       "      <th>2</th>\n",
       "      <td>1601</td>\n",
       "      <td>I reach out to people on r/depression because ...</td>\n",
       "      <td>I like reaching put to those who are feeling h...</td>\n",
       "      <td>Existential</td>\n",
       "    </tr>\n",
       "    <tr>\n",
       "      <th>3</th>\n",
       "      <td>6463</td>\n",
       "      <td>To the thanksgiving I never had</td>\n",
       "      <td>I never had a thanksgiving with my family ... ...</td>\n",
       "      <td>No Guilt</td>\n",
       "    </tr>\n",
       "    <tr>\n",
       "      <th>4</th>\n",
       "      <td>3305</td>\n",
       "      <td>I broke my sofa today</td>\n",
       "      <td>I honestly can't share this with anyone else. ...</td>\n",
       "      <td>No Guilt</td>\n",
       "    </tr>\n",
       "  </tbody>\n",
       "</table>\n",
       "</div>"
      ],
      "text/plain": [
       "     id                                              title  \\\n",
       "0  8292            I shared my wife’s pics with strangers.   \n",
       "1  3742                            Her bra smelled so good   \n",
       "2  1601  I reach out to people on r/depression because ...   \n",
       "3  6463                    To the thanksgiving I never had   \n",
       "4  3305                              I broke my sofa today   \n",
       "\n",
       "                                             content        label  \n",
       "0  I have been sharing my wife’s pics that were o...     No Guilt  \n",
       "1  Recently my hot aunt spent the weekend at my p...     No Guilt  \n",
       "2  I like reaching put to those who are feeling h...  Existential  \n",
       "3  I never had a thanksgiving with my family ... ...     No Guilt  \n",
       "4  I honestly can't share this with anyone else. ...     No Guilt  "
      ]
     },
     "execution_count": 9,
     "metadata": {},
     "output_type": "execute_result"
    }
   ],
   "source": [
    "data.head()"
   ]
  },
  {
   "cell_type": "code",
   "execution_count": 10,
   "id": "e2d15cde",
   "metadata": {},
   "outputs": [
    {
     "data": {
      "text/plain": [
       "id         1000\n",
       "title      1000\n",
       "content    1000\n",
       "label      1000\n",
       "dtype: int64"
      ]
     },
     "execution_count": 10,
     "metadata": {},
     "output_type": "execute_result"
    }
   ],
   "source": [
    "data.count()"
   ]
  },
  {
   "cell_type": "code",
   "execution_count": 11,
   "id": "f035d026",
   "metadata": {},
   "outputs": [
    {
     "data": {
      "text/html": [
       "<div>\n",
       "<style scoped>\n",
       "    .dataframe tbody tr th:only-of-type {\n",
       "        vertical-align: middle;\n",
       "    }\n",
       "\n",
       "    .dataframe tbody tr th {\n",
       "        vertical-align: top;\n",
       "    }\n",
       "\n",
       "    .dataframe thead th {\n",
       "        text-align: right;\n",
       "    }\n",
       "</style>\n",
       "<table border=\"1\" class=\"dataframe\">\n",
       "  <thead>\n",
       "    <tr style=\"text-align: right;\">\n",
       "      <th></th>\n",
       "      <th>id</th>\n",
       "      <th>title</th>\n",
       "      <th>content</th>\n",
       "      <th>label</th>\n",
       "    </tr>\n",
       "  </thead>\n",
       "  <tbody>\n",
       "  </tbody>\n",
       "</table>\n",
       "</div>"
      ],
      "text/plain": [
       "Empty DataFrame\n",
       "Columns: [id, title, content, label]\n",
       "Index: []"
      ]
     },
     "execution_count": 11,
     "metadata": {},
     "output_type": "execute_result"
    }
   ],
   "source": [
    "# Group by 'title' and collect unique 'label' values for each title\n",
    "title_label_groups = data.groupby('title')['label'].unique()\n",
    "# Find titles with different labels\n",
    "differing_titles = title_label_groups[title_label_groups.apply(len) > 1]\n",
    "\n",
    "# Filter original DataFrame based on differing titles\n",
    "result = data[data['title'].isin(differing_titles.index)]\n",
    "df = pd.DataFrame(result)\n",
    "df = df.sort_values(by='title')\n",
    "df"
   ]
  },
  {
   "cell_type": "code",
   "execution_count": 12,
   "id": "f22fc59a",
   "metadata": {},
   "outputs": [
    {
     "data": {
      "text/html": [
       "<div>\n",
       "<style scoped>\n",
       "    .dataframe tbody tr th:only-of-type {\n",
       "        vertical-align: middle;\n",
       "    }\n",
       "\n",
       "    .dataframe tbody tr th {\n",
       "        vertical-align: top;\n",
       "    }\n",
       "\n",
       "    .dataframe thead th {\n",
       "        text-align: right;\n",
       "    }\n",
       "</style>\n",
       "<table border=\"1\" class=\"dataframe\">\n",
       "  <thead>\n",
       "    <tr style=\"text-align: right;\">\n",
       "      <th></th>\n",
       "      <th>id</th>\n",
       "      <th>title</th>\n",
       "      <th>content</th>\n",
       "      <th>label</th>\n",
       "    </tr>\n",
       "  </thead>\n",
       "  <tbody>\n",
       "  </tbody>\n",
       "</table>\n",
       "</div>"
      ],
      "text/plain": [
       "Empty DataFrame\n",
       "Columns: [id, title, content, label]\n",
       "Index: []"
      ]
     },
     "execution_count": 12,
     "metadata": {},
     "output_type": "execute_result"
    }
   ],
   "source": [
    "# Group by 'title' and collect unique 'label' values for each title\n",
    "title_label_groups2 = data.groupby('content')['label'].unique()\n",
    "# Find titles with different labels\n",
    "differing_titles2 = title_label_groups2[title_label_groups2.apply(len) > 1]\n",
    "\n",
    "# Filter original DataFrame based on differing titles\n",
    "result2 = data[data['content'].isin(differing_titles2.index)]\n",
    "df2 = pd.DataFrame(result2)\n",
    "df2 = df2.sort_values(by='title')\n",
    "df2"
   ]
  },
  {
   "cell_type": "code",
   "execution_count": null,
   "id": "c425275c",
   "metadata": {},
   "outputs": [],
   "source": []
  }
 ],
 "metadata": {
  "kernelspec": {
   "display_name": "Python 3 (ipykernel)",
   "language": "python",
   "name": "python3"
  },
  "language_info": {
   "codemirror_mode": {
    "name": "ipython",
    "version": 3
   },
   "file_extension": ".py",
   "mimetype": "text/x-python",
   "name": "python",
   "nbconvert_exporter": "python",
   "pygments_lexer": "ipython3",
   "version": "3.10.7"
  }
 },
 "nbformat": 4,
 "nbformat_minor": 5
}
